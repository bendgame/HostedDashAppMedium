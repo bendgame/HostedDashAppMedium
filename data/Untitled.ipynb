{
 "cells": [
  {
   "cell_type": "code",
   "execution_count": 58,
   "metadata": {},
   "outputs": [],
   "source": [
    "import sqlite3\n",
    "import pandas as pd\n",
    "\n",
    "conn = sqlite3.connect('wine_data.sqlite')\n",
    "c = conn.cursor()\n",
    "\n",
    "df = pd.read_sql(\"select country, variety, price, rating from wine_data\" , conn)\n",
    "\n",
    "row_count = pd.read_sql(\"select count(*) as rows from wine_data\", conn)\n",
    "percent = pd.read_sql(\"select count(variety) counts, variety from wine_data group by variety\", conn)"
   ]
  },
  {
   "cell_type": "code",
   "execution_count": 50,
   "metadata": {},
   "outputs": [],
   "source": [
    "top_df = pd.read_sql(\"select variety, count(variety) as counts, avg(price) as avgPrice, avg(rating) as avgRating from wine_data group by variety order by counts desc limit 8\", conn)"
   ]
  },
  {
   "cell_type": "code",
   "execution_count": 51,
   "metadata": {},
   "outputs": [],
   "source": [
    "least_df = pd.read_sql(\"select variety, count(variety) as counts, avg(price) as avgPrice, avg(rating) as avgRating from wine_data group by variety order by counts asc limit 8\", conn)"
   ]
  },
  {
   "cell_type": "code",
   "execution_count": 52,
   "metadata": {},
   "outputs": [
    {
     "data": {
      "text/html": [
       "<div>\n",
       "<style scoped>\n",
       "    .dataframe tbody tr th:only-of-type {\n",
       "        vertical-align: middle;\n",
       "    }\n",
       "\n",
       "    .dataframe tbody tr th {\n",
       "        vertical-align: top;\n",
       "    }\n",
       "\n",
       "    .dataframe thead th {\n",
       "        text-align: right;\n",
       "    }\n",
       "</style>\n",
       "<table border=\"1\" class=\"dataframe\">\n",
       "  <thead>\n",
       "    <tr style=\"text-align: right;\">\n",
       "      <th></th>\n",
       "      <th>variety</th>\n",
       "      <th>counts</th>\n",
       "      <th>avgPrice</th>\n",
       "      <th>avgRating</th>\n",
       "    </tr>\n",
       "  </thead>\n",
       "  <tbody>\n",
       "    <tr>\n",
       "      <td>0</td>\n",
       "      <td>Pinot Noir</td>\n",
       "      <td>11832</td>\n",
       "      <td>47.88</td>\n",
       "      <td>89.43</td>\n",
       "    </tr>\n",
       "    <tr>\n",
       "      <td>1</td>\n",
       "      <td>Chardonnay</td>\n",
       "      <td>10234</td>\n",
       "      <td>34.71</td>\n",
       "      <td>88.28</td>\n",
       "    </tr>\n",
       "    <tr>\n",
       "      <td>2</td>\n",
       "      <td>Cabernet Sauvignon</td>\n",
       "      <td>8758</td>\n",
       "      <td>48.26</td>\n",
       "      <td>88.62</td>\n",
       "    </tr>\n",
       "    <tr>\n",
       "      <td>3</td>\n",
       "      <td>Red Blend</td>\n",
       "      <td>7796</td>\n",
       "      <td>36.10</td>\n",
       "      <td>88.37</td>\n",
       "    </tr>\n",
       "    <tr>\n",
       "      <td>4</td>\n",
       "      <td>Bordeaux-style Red Blend</td>\n",
       "      <td>4958</td>\n",
       "      <td>48.05</td>\n",
       "      <td>88.81</td>\n",
       "    </tr>\n",
       "    <tr>\n",
       "      <td>5</td>\n",
       "      <td>Riesling</td>\n",
       "      <td>4571</td>\n",
       "      <td>32.61</td>\n",
       "      <td>89.47</td>\n",
       "    </tr>\n",
       "    <tr>\n",
       "      <td>6</td>\n",
       "      <td>Sauvignon Blanc</td>\n",
       "      <td>4399</td>\n",
       "      <td>20.17</td>\n",
       "      <td>87.36</td>\n",
       "    </tr>\n",
       "    <tr>\n",
       "      <td>7</td>\n",
       "      <td>Syrah</td>\n",
       "      <td>3776</td>\n",
       "      <td>39.05</td>\n",
       "      <td>89.31</td>\n",
       "    </tr>\n",
       "  </tbody>\n",
       "</table>\n",
       "</div>"
      ],
      "text/plain": [
       "                    variety  counts  avgPrice  avgRating\n",
       "0                Pinot Noir   11832     47.88      89.43\n",
       "1                Chardonnay   10234     34.71      88.28\n",
       "2        Cabernet Sauvignon    8758     48.26      88.62\n",
       "3                 Red Blend    7796     36.10      88.37\n",
       "4  Bordeaux-style Red Blend    4958     48.05      88.81\n",
       "5                  Riesling    4571     32.61      89.47\n",
       "6           Sauvignon Blanc    4399     20.17      87.36\n",
       "7                     Syrah    3776     39.05      89.31"
      ]
     },
     "execution_count": 52,
     "metadata": {},
     "output_type": "execute_result"
    }
   ],
   "source": [
    "top_df.round(2)"
   ]
  },
  {
   "cell_type": "code",
   "execution_count": 53,
   "metadata": {},
   "outputs": [
    {
     "data": {
      "text/plain": [
       "100228"
      ]
     },
     "execution_count": 53,
     "metadata": {},
     "output_type": "execute_result"
    }
   ],
   "source": [
    "row_count['rows'][0]"
   ]
  },
  {
   "cell_type": "code",
   "execution_count": 67,
   "metadata": {
    "scrolled": true
   },
   "outputs": [
    {
     "data": {
      "text/html": [
       "<div>\n",
       "<style scoped>\n",
       "    .dataframe tbody tr th:only-of-type {\n",
       "        vertical-align: middle;\n",
       "    }\n",
       "\n",
       "    .dataframe tbody tr th {\n",
       "        vertical-align: top;\n",
       "    }\n",
       "\n",
       "    .dataframe thead th {\n",
       "        text-align: right;\n",
       "    }\n",
       "</style>\n",
       "<table border=\"1\" class=\"dataframe\">\n",
       "  <thead>\n",
       "    <tr style=\"text-align: right;\">\n",
       "      <th></th>\n",
       "      <th>counts</th>\n",
       "      <th>variety</th>\n",
       "      <th>contribution</th>\n",
       "      <th>remainder</th>\n",
       "    </tr>\n",
       "  </thead>\n",
       "  <tbody>\n",
       "    <tr>\n",
       "      <td>0</td>\n",
       "      <td>274</td>\n",
       "      <td>Aglianico</td>\n",
       "      <td>0.273377</td>\n",
       "      <td>99.726623</td>\n",
       "    </tr>\n",
       "    <tr>\n",
       "      <td>1</td>\n",
       "      <td>432</td>\n",
       "      <td>Albariño</td>\n",
       "      <td>0.431017</td>\n",
       "      <td>99.568983</td>\n",
       "    </tr>\n",
       "    <tr>\n",
       "      <td>2</td>\n",
       "      <td>545</td>\n",
       "      <td>Barbera</td>\n",
       "      <td>0.543760</td>\n",
       "      <td>99.456240</td>\n",
       "    </tr>\n",
       "    <tr>\n",
       "      <td>3</td>\n",
       "      <td>4958</td>\n",
       "      <td>Bordeaux-style Red Blend</td>\n",
       "      <td>4.946721</td>\n",
       "      <td>95.053279</td>\n",
       "    </tr>\n",
       "    <tr>\n",
       "      <td>4</td>\n",
       "      <td>635</td>\n",
       "      <td>Bordeaux-style White Blend</td>\n",
       "      <td>0.633555</td>\n",
       "      <td>99.366445</td>\n",
       "    </tr>\n",
       "  </tbody>\n",
       "</table>\n",
       "</div>"
      ],
      "text/plain": [
       "   counts                     variety  contribution  remainder\n",
       "0     274                   Aglianico      0.273377  99.726623\n",
       "1     432                    Albariño      0.431017  99.568983\n",
       "2     545                     Barbera      0.543760  99.456240\n",
       "3    4958    Bordeaux-style Red Blend      4.946721  95.053279\n",
       "4     635  Bordeaux-style White Blend      0.633555  99.366445"
      ]
     },
     "execution_count": 67,
     "metadata": {},
     "output_type": "execute_result"
    }
   ],
   "source": [
    "percent['contribution'] =  percent['counts'] / row_count['rows'][0] * 100\n",
    "percent['remainder'] = 100 - percent['contribution']\n",
    "percent.head()"
   ]
  },
  {
   "cell_type": "code",
   "execution_count": 70,
   "metadata": {},
   "outputs": [],
   "source": [
    "var = 'Chardonnay'\n",
    "percent2 = percent.loc[percent['variety'] == var]"
   ]
  },
  {
   "cell_type": "code",
   "execution_count": 71,
   "metadata": {},
   "outputs": [
    {
     "data": {
      "text/html": [
       "<div>\n",
       "<style scoped>\n",
       "    .dataframe tbody tr th:only-of-type {\n",
       "        vertical-align: middle;\n",
       "    }\n",
       "\n",
       "    .dataframe tbody tr th {\n",
       "        vertical-align: top;\n",
       "    }\n",
       "\n",
       "    .dataframe thead th {\n",
       "        text-align: right;\n",
       "    }\n",
       "</style>\n",
       "<table border=\"1\" class=\"dataframe\">\n",
       "  <thead>\n",
       "    <tr style=\"text-align: right;\">\n",
       "      <th></th>\n",
       "      <th>counts</th>\n",
       "      <th>variety</th>\n",
       "      <th>contribution</th>\n",
       "      <th>remainder</th>\n",
       "    </tr>\n",
       "  </thead>\n",
       "  <tbody>\n",
       "    <tr>\n",
       "      <td>9</td>\n",
       "      <td>10234</td>\n",
       "      <td>Chardonnay</td>\n",
       "      <td>10.21072</td>\n",
       "      <td>89.78928</td>\n",
       "    </tr>\n",
       "  </tbody>\n",
       "</table>\n",
       "</div>"
      ],
      "text/plain": [
       "   counts     variety  contribution  remainder\n",
       "9   10234  Chardonnay      10.21072   89.78928"
      ]
     },
     "execution_count": 71,
     "metadata": {},
     "output_type": "execute_result"
    }
   ],
   "source": [
    "percent2"
   ]
  },
  {
   "cell_type": "code",
   "execution_count": 62,
   "metadata": {},
   "outputs": [
    {
     "data": {
      "text/plain": [
       "0.27337670112144313"
      ]
     },
     "execution_count": 62,
     "metadata": {},
     "output_type": "execute_result"
    }
   ],
   "source": [
    "percent['contribution'][0]"
   ]
  },
  {
   "cell_type": "code",
   "execution_count": null,
   "metadata": {},
   "outputs": [],
   "source": []
  }
 ],
 "metadata": {
  "kernelspec": {
   "display_name": "Python 3",
   "language": "python",
   "name": "python3"
  },
  "language_info": {
   "codemirror_mode": {
    "name": "ipython",
    "version": 3
   },
   "file_extension": ".py",
   "mimetype": "text/x-python",
   "name": "python",
   "nbconvert_exporter": "python",
   "pygments_lexer": "ipython3",
   "version": "3.7.4"
  }
 },
 "nbformat": 4,
 "nbformat_minor": 2
}
